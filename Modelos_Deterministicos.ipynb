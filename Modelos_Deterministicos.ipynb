{
  "nbformat": 4,
  "nbformat_minor": 0,
  "metadata": {
    "colab": {
      "name": "Modelos Deterministicos.ipynb",
      "provenance": [],
      "collapsed_sections": [],
      "authorship_tag": "ABX9TyOhBqMdGya9yQ6G6o4SRUn3",
      "include_colab_link": true
    },
    "kernelspec": {
      "name": "python3",
      "display_name": "Python 3"
    },
    "language_info": {
      "name": "python"
    }
  },
  "cells": [
    {
      "cell_type": "markdown",
      "metadata": {
        "id": "view-in-github",
        "colab_type": "text"
      },
      "source": [
        "<a href=\"https://colab.research.google.com/github/Zasalast/Guia-Modelos-Deterministicos/blob/main/Modelos_Deterministicos.ipynb\" target=\"_parent\"><img src=\"https://colab.research.google.com/assets/colab-badge.svg\" alt=\"Open In Colab\"/></a>"
      ]
    },
    {
      "cell_type": "code",
      "execution_count": null,
      "metadata": {
        "id": "adzKDobfaxme"
      },
      "outputs": [],
      "source": []
    },
    {
      "cell_type": "markdown",
      "source": [
        "Indice\n",
        "\n",
        "\n",
        "1.   Modelos Deterministicos\n",
        "2.   Programacion Lineal Amplia\n",
        "3.   Programacion Lineal Entera\n",
        "4.   Programacion Lineal Mixta\n",
        "5.   Programacion Lineal Binaria\n",
        "6.   Programacion Dimanica\n",
        "7.   Programacion no Lineal\n",
        "\n"
      ],
      "metadata": {
        "id": "b5qJZYpna2M5"
      }
    },
    {
      "cell_type": "markdown",
      "source": [
        "Los modelos deterministicos no contemplan azar, deben ser claramente definidos, es decir, no permite incertidumbre o ambiguedades. Con el se puede crear entorno de simulación bajo ciertos parametros, tambien para estudiar hipotesis, para reducir la incertidumbre bajo ciertos parametros establedidos de acuerdo al caso. Llegando hacer predicciones, bajo ciertas restricciones, variables y parametros finitos.(Crhirtofer, 2007).\n",
        "\n",
        "Dentro de los modelos estan: Programación Lineal, ampliada, mixta, binaria, dinamica y no lineal. (krone, 1980; lopez, 2001). \n",
        "\n",
        "Las cuales se construyen para unas condiciones con certeza supuesta(Malczewski, 1999). Por lo tanto el modelo con las mismas entradas producira siempre la misma salida.(Crhirtofer, 2007).\n",
        "Por lo tanto  los modelos deterministicos se pueden usar en diversos casos como son: Sistemas que evolucionan con el tiemo, sistemas dinamicos, que cambian de comportamiento, con el podríamos predecir el estado en un tiempo determinado, despues de haber definido los parametros y restricciones del modelo(Jeffer, 2002)..\n"
      ],
      "metadata": {
        "id": "84-zCaEqBU6g"
      }
    },
    {
      "cell_type": "markdown",
      "source": [
        "# características\n"
      ],
      "metadata": {
        "id": "o6Gg6y5IVRZc"
      }
    }
  ]
}